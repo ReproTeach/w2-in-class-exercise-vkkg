{
 "cells": [
  {
   "cell_type": "code",
   "execution_count": 2,
   "id": "8f79a802-1408-4736-9abc-12ec45544a57",
   "metadata": {
    "tags": []
   },
   "outputs": [
    {
     "name": "stdout",
     "output_type": "stream",
     "text": [
      "3\n",
      "7\n",
      "24\n"
     ]
    }
   ],
   "source": [
    "def get_max(list):\n",
    "    max_val = list[0]\n",
    "    for i in range(len(list)):\n",
    "        if list[i] >= max_val:\n",
    "            max_val = list[i]\n",
    "    return max_val\n",
    "\n",
    "\n",
    "print(get_max([-1, -2, -10,0, 3,-5]))\n",
    "print(get_max([1,2,3,4,5,6,7]))\n",
    "print(get_max([0,-2,3,7,-10,24,13]))\n",
    "      "
   ]
  },
  {
   "cell_type": "code",
   "execution_count": null,
   "id": "c074c0f6-e09e-441e-9c40-ead2bd799fe4",
   "metadata": {},
   "outputs": [],
   "source": []
  }
 ],
 "metadata": {
  "kernelspec": {
   "display_name": "Python 3 (ipykernel)",
   "language": "python",
   "name": "python3"
  },
  "language_info": {
   "codemirror_mode": {
    "name": "ipython",
    "version": 3
   },
   "file_extension": ".py",
   "mimetype": "text/x-python",
   "name": "python",
   "nbconvert_exporter": "python",
   "pygments_lexer": "ipython3",
   "version": "3.10.9"
  }
 },
 "nbformat": 4,
 "nbformat_minor": 5
}
